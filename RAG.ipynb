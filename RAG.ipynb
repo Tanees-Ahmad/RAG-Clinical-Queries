{
 "cells": [
  {
   "cell_type": "code",
   "execution_count": 1,
   "id": "b1cbac32-d959-4797-9dde-c9f7dfb9e5de",
   "metadata": {},
   "outputs": [],
   "source": [
    "import os\n",
    "import json\n",
    "\n",
    "def load_json_data(root_folder):\n",
    "    data_list = []\n",
    "    for subdir, _, files in os.walk(root_folder):\n",
    "        for file in files:\n",
    "            if file.endswith('.json'):\n",
    "                with open(os.path.join(subdir, file), 'r') as f:\n",
    "                    try:\n",
    "                        data = json.load(f)\n",
    "                        data_list.append(data)\n",
    "                    except Exception as e:\n",
    "                        print(f\"Error loading {file}: {e}\")\n",
    "    return data_list\n",
    "\n",
    "\n",
    "# def load_json_data(root_folder):\n",
    "#     data_list = []\n",
    "#     count = 0\n",
    "#     for subdir, _, files in os.walk(root_folder):\n",
    "#         for file in files:\n",
    "#             if file.endswith('.json'):\n",
    "#                 with open(os.path.join(subdir, file), 'r') as f:\n",
    "#                     try:\n",
    "#                         data = json.load(f)\n",
    "#                         data_list.append(data)\n",
    "#                         count += 1\n",
    "#                     except Exception as e:\n",
    "#                         print(f\"Error loading {file}: {e}\")\n",
    "#     print(f\"[INFO] Loaded {count} JSON documents.\")\n",
    "#     return data_list\n",
    "\n"
   ]
  },
  {
   "cell_type": "code",
   "execution_count": 2,
   "id": "6079e3ca-049e-4243-a946-dd59b4e4ec38",
   "metadata": {},
   "outputs": [],
   "source": [
    "def flatten_json_tree(tree, parent_key=\"\"):\n",
    "    flattened = []\n",
    "\n",
    "    for key, value in tree.items():\n",
    "        if key.startswith(\"input\"):\n",
    "            continue  # Skip input keys, will handle separately\n",
    "        full_key = f\"{parent_key} → {key}\" if parent_key else key\n",
    "        if isinstance(value, dict) and value:\n",
    "            flattened.extend(flatten_json_tree(value, full_key))\n",
    "        else:\n",
    "            flattened.append(full_key)\n",
    "\n",
    "    return flattened\n"
   ]
  },
  {
   "cell_type": "code",
   "execution_count": 3,
   "id": "dd34c68b-1ad2-4b5e-96ff-44cc0f96131b",
   "metadata": {},
   "outputs": [
    {
     "data": {
      "application/vnd.jupyter.widget-view+json": {
       "model_id": "703f1157f7da4f0eb1854e625beb1e4d",
       "version_major": 2,
       "version_minor": 0
      },
      "text/plain": [
       "Batches:   0%|          | 0/160 [00:00<?, ?it/s]"
      ]
     },
     "metadata": {},
     "output_type": "display_data"
    }
   ],
   "source": [
    "from sentence_transformers import SentenceTransformer\n",
    "import numpy as np\n",
    "import faiss\n",
    "\n",
    "model = SentenceTransformer('all-MiniLM-L6-v2')\n",
    "\n",
    "# Load and flatten\n",
    "data_list = load_json_data(\"samples\")\n",
    "all_sentences = []\n",
    "metadata = []\n",
    "\n",
    "for data in data_list:\n",
    "    flat_sentences = flatten_json_tree(data)\n",
    "    all_sentences.extend(flat_sentences)\n",
    "    metadata.extend([data.get(\"input2\", \"\")] * len(flat_sentences))  # Or any relevant note\n",
    "\n",
    "# Embedding\n",
    "embeddings = model.encode(all_sentences, show_progress_bar=True)\n"
   ]
  },
  {
   "cell_type": "code",
   "execution_count": 4,
   "id": "3aa07fbd-3340-4c5e-8418-a92eddcb15f4",
   "metadata": {},
   "outputs": [],
   "source": [
    "dimension = embeddings.shape[1]\n",
    "index = faiss.IndexFlatL2(dimension)\n",
    "index.add(np.array(embeddings))\n"
   ]
  },
  {
   "cell_type": "code",
   "execution_count": 5,
   "id": "dbdc8c9f-bbf5-4b2a-a264-e66893261f7c",
   "metadata": {},
   "outputs": [],
   "source": [
    "def search(query, k=5):\n",
    "    query_vec = model.encode([query])\n",
    "    D, I = index.search(query_vec, k)\n",
    "    return [(all_sentences[i], metadata[i]) for i in I[0]]\n"
   ]
  },
  {
   "cell_type": "code",
   "execution_count": 9,
   "id": "5056fa38-b04c-4ccf-8ca0-99621c74be8f",
   "metadata": {},
   "outputs": [],
   "source": [
    "import requests\n",
    "import json\n",
    "\n",
    "def llama2_ollama_generate(prompt):\n",
    "    response = requests.post(\n",
    "        \"http://localhost:11434/api/generate\",\n",
    "        json={\"model\": \"gemma:2b\", \"prompt\": prompt},\n",
    "        stream=True\n",
    "    )\n",
    "\n",
    "    result = \"\" \n",
    "    for line in response.iter_lines():\n",
    "        if line:\n",
    "            data = json.loads(line.decode('utf-8'))\n",
    "            if 'response' in data:\n",
    "                result += data['response']\n",
    "    \n",
    "    return result\n"
   ]
  },
  {
   "cell_type": "code",
   "execution_count": 10,
   "id": "0c76fadb-33bc-4252-8fad-58ecb61b7960",
   "metadata": {},
   "outputs": [
    {
     "name": "stdout",
     "output_type": "stream",
     "text": [
      "Sure, here are the symptoms of heart failure:\n",
      "\n",
      "* Shortness of breath\n",
      "* Fatigue\n",
      "* Swelling in the legs, ankles, and abdomen\n",
      "* Increased heart size and weight\n",
      "* Irregular heartbeat\n",
      "* Swelling in the face, ears, nose, and throat\n",
      "* Sudden weight loss\n",
      "* Nausea and vomiting\n",
      "* Swelling in the hands, feet, and face\n",
      "* Wheezing or coughing\n",
      "* Chest pain or pressure\n"
     ]
    }
   ],
   "source": [
    "answer = llama2_ollama_generate(\"What are symptoms of heart failure?\")\n",
    "print(answer)\n"
   ]
  },
  {
   "cell_type": "code",
   "execution_count": null,
   "id": "5d9dba07-ec6a-44be-aa38-f5f86edaac10",
   "metadata": {},
   "outputs": [],
   "source": []
  },
  {
   "cell_type": "code",
   "execution_count": null,
   "id": "38f9167b-f16f-48d2-b59c-9efd622cd14b",
   "metadata": {},
   "outputs": [],
   "source": []
  }
 ],
 "metadata": {
  "kernelspec": {
   "display_name": "Python 3 (ipykernel)",
   "language": "python",
   "name": "python3"
  },
  "language_info": {
   "codemirror_mode": {
    "name": "ipython",
    "version": 3
   },
   "file_extension": ".py",
   "mimetype": "text/x-python",
   "name": "python",
   "nbconvert_exporter": "python",
   "pygments_lexer": "ipython3",
   "version": "3.11.9"
  }
 },
 "nbformat": 4,
 "nbformat_minor": 5
}
